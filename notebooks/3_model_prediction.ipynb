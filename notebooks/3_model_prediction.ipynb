{
 "cells": [
  {
   "cell_type": "markdown",
   "metadata": {},
   "source": [
    "### Model Prediction for Each Validation Fold"
   ]
  },
  {
   "cell_type": "code",
   "execution_count": 22,
   "metadata": {},
   "outputs": [],
   "source": [
    "import pandas as pd\n",
    "import numpy as np\n",
    "from sklearn.model_selection import cross_validate\n",
    "from xgboost import XGBRegressor\n",
    "from sklearn.metrics import make_scorer, mean_absolute_error, mean_squared_error, r2_score"
   ]
  },
  {
   "cell_type": "code",
   "execution_count": 23,
   "metadata": {},
   "outputs": [],
   "source": [
    "# Load dataset\n",
    "data = pd.read_csv('../data/ENB2012_data_with_columns.csv')"
   ]
  },
  {
   "cell_type": "code",
   "execution_count": 24,
   "metadata": {},
   "outputs": [],
   "source": [
    "# Check for NaN values and replace or drop them\n",
    "data = data.replace([np.inf, -np.inf], np.nan)\n",
    "data = data.dropna()"
   ]
  },
  {
   "cell_type": "code",
   "execution_count": 25,
   "metadata": {},
   "outputs": [],
   "source": [
    "# Define input and output variables\n",
    "X = data.iloc[:, :-2]\n",
    "y_hl = data['Heating_Load']\n",
    "y_cl = data['Cooling_Load']"
   ]
  },
  {
   "cell_type": "code",
   "execution_count": 26,
   "metadata": {},
   "outputs": [],
   "source": [
    "# Define custom scoring functions\n",
    "def rmse(y_true, y_pred):\n",
    "    return np.sqrt(mean_squared_error(y_true, y_pred))\n",
    "\n",
    "def mape(y_true, y_pred):\n",
    "    return np.mean(np.abs((y_true - y_pred) / y_true)) * 100"
   ]
  },
  {
   "cell_type": "code",
   "execution_count": 27,
   "metadata": {},
   "outputs": [],
   "source": [
    "scoring = {\n",
    "    'MAE': make_scorer(mean_absolute_error),\n",
    "    'RMSE': make_scorer(rmse),\n",
    "    'MAPE': make_scorer(mape),\n",
    "    'R2': make_scorer(r2_score)\n",
    "}"
   ]
  },
  {
   "cell_type": "code",
   "execution_count": 28,
   "metadata": {},
   "outputs": [],
   "source": [
    "# Best parameters from grid search\n",
    "best_params_hl = {'colsample_bytree': 0.9, 'gamma': 0, 'learning_rate': 0.2, 'max_depth': 5, 'min_child_weight': 1, 'n_estimators': 300, 'reg_alpha': 0, 'reg_lambda': 1, 'subsample': 1}\n",
    "best_params_cl = {'colsample_bytree': 1, 'gamma': 0, 'learning_rate': 0.2, 'max_depth': 5, 'min_child_weight': 2, 'n_estimators': 300, 'reg_alpha': 0, 'reg_lambda': 1, 'subsample': 0.8}"
   ]
  },
  {
   "cell_type": "code",
   "execution_count": 29,
   "metadata": {},
   "outputs": [],
   "source": [
    "# Define the models with the best parameters\n",
    "xgb_model_hl = XGBRegressor(**best_params_hl)\n",
    "xgb_model_cl = XGBRegressor(**best_params_cl)"
   ]
  },
  {
   "cell_type": "code",
   "execution_count": 30,
   "metadata": {},
   "outputs": [],
   "source": [
    "# Cross-validation for heating load\n",
    "scores_hl = cross_validate(xgb_model_hl, X, y_hl, cv=10, scoring=scoring, return_train_score=True)\n",
    "# Cross-validation for cooling load\n",
    "scores_cl = cross_validate(xgb_model_cl, X, y_cl, cv=10, scoring=scoring, return_train_score=True)"
   ]
  },
  {
   "cell_type": "code",
   "execution_count": 31,
   "metadata": {},
   "outputs": [],
   "source": [
    "# Save the scores\n",
    "hl_scores_df = pd.DataFrame(scores_hl)\n",
    "cl_scores_df = pd.DataFrame(scores_cl)"
   ]
  },
  {
   "cell_type": "code",
   "execution_count": 32,
   "metadata": {},
   "outputs": [],
   "source": [
    "hl_scores_df.to_csv('../results/tables/heating_load_scores.csv', index=False)\n",
    "cl_scores_df.to_csv('../results/tables/cooling_load_scores.csv', index=False)"
   ]
  },
  {
   "cell_type": "code",
   "execution_count": 33,
   "metadata": {},
   "outputs": [
    {
     "name": "stdout",
     "output_type": "stream",
     "text": [
      "Heating Load Cross-Validation Scores (Avg and Std):\n",
      "fit_time      0.079162\n",
      "score_time    0.003701\n",
      "test_MAE      0.664526\n",
      "train_MAE     0.053769\n",
      "test_RMSE     0.881368\n",
      "train_RMSE    0.077518\n",
      "test_MAPE     4.534199\n",
      "train_MAPE    0.271833\n",
      "test_R2       0.968914\n",
      "train_R2      0.999941\n",
      "dtype: float64\n",
      "fit_time      0.004218\n",
      "score_time    0.000482\n",
      "test_MAE      1.190295\n",
      "train_MAE     0.002931\n",
      "test_RMSE     1.501862\n",
      "train_RMSE    0.003276\n",
      "test_MAPE     9.715305\n",
      "train_MAPE    0.015656\n",
      "test_R2       0.092461\n",
      "train_R2      0.000005\n",
      "dtype: float64\n"
     ]
    }
   ],
   "source": [
    "# Calculate and print the averages and standard deviations\n",
    "print(\"Heating Load Cross-Validation Scores (Avg and Std):\")\n",
    "print(hl_scores_df.mean())\n",
    "print(hl_scores_df.std())"
   ]
  },
  {
   "cell_type": "code",
   "execution_count": 34,
   "metadata": {},
   "outputs": [
    {
     "name": "stdout",
     "output_type": "stream",
     "text": [
      "\n",
      "Cooling Load Cross-Validation Scores (Avg and Std):\n",
      "fit_time      0.081013\n",
      "score_time    0.003551\n",
      "test_MAE      0.690026\n",
      "train_MAE     0.103027\n",
      "test_RMSE     0.893710\n",
      "train_RMSE    0.145793\n",
      "test_MAPE     3.166651\n",
      "train_MAPE    0.454252\n",
      "test_R2       0.985746\n",
      "train_R2      0.999764\n",
      "dtype: float64\n",
      "fit_time      0.003542\n",
      "score_time    0.000497\n",
      "test_MAE      0.555177\n",
      "train_MAE     0.004946\n",
      "test_RMSE     0.660693\n",
      "train_RMSE    0.006440\n",
      "test_MAPE     3.038289\n",
      "train_MAPE    0.019164\n",
      "test_R2       0.026684\n",
      "train_R2      0.000021\n",
      "dtype: float64\n"
     ]
    }
   ],
   "source": [
    "print(\"\\nCooling Load Cross-Validation Scores (Avg and Std):\")\n",
    "print(cl_scores_df.mean())\n",
    "print(cl_scores_df.std())"
   ]
  },
  {
   "cell_type": "code",
   "execution_count": 35,
   "metadata": {},
   "outputs": [],
   "source": [
    "# Save averages and standard deviations\n",
    "with open('../results/tables/average_std_scores.txt', 'w') as f:\n",
    "    f.write(\"Heating Load Cross-Validation Scores (Avg and Std):\\n\")\n",
    "    f.write(str(hl_scores_df.mean()) + \"\\n\")\n",
    "    f.write(str(hl_scores_df.std()) + \"\\n\\n\")\n",
    "    f.write(\"Cooling Load Cross-Validation Scores (Avg and Std):\\n\")\n",
    "    f.write(str(cl_scores_df.mean()) + \"\\n\")\n",
    "    f.write(str(cl_scores_df.std()) + \"\\n\")"
   ]
  }
 ],
 "metadata": {
  "kernelspec": {
   "display_name": "deeplearning",
   "language": "python",
   "name": "python3"
  },
  "language_info": {
   "codemirror_mode": {
    "name": "ipython",
    "version": 3
   },
   "file_extension": ".py",
   "mimetype": "text/x-python",
   "name": "python",
   "nbconvert_exporter": "python",
   "pygments_lexer": "ipython3",
   "version": "3.10.13"
  }
 },
 "nbformat": 4,
 "nbformat_minor": 2
}
