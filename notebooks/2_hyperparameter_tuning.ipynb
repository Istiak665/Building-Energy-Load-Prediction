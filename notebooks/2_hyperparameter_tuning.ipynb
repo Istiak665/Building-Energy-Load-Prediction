{
 "cells": [
  {
   "cell_type": "code",
   "execution_count": 1,
   "metadata": {},
   "outputs": [],
   "source": [
    "import pandas as pd\n",
    "from sklearn.model_selection import train_test_split, GridSearchCV\n",
    "from xgboost import XGBRegressor\n",
    "import numpy as np\n",
    "import json\n",
    "import dicttoxml"
   ]
  },
  {
   "cell_type": "code",
   "execution_count": 2,
   "metadata": {},
   "outputs": [],
   "source": [
    "# Load dataset\n",
    "data = pd.read_csv('../data/ENB2012_data_with_columns.csv')"
   ]
  },
  {
   "cell_type": "code",
   "execution_count": 3,
   "metadata": {},
   "outputs": [],
   "source": [
    "# Check for NaN values and replace or drop them\n",
    "data = data.replace([np.inf, -np.inf], np.nan)\n",
    "data = data.dropna()"
   ]
  },
  {
   "cell_type": "code",
   "execution_count": 4,
   "metadata": {},
   "outputs": [],
   "source": [
    "# Define input and output variables\n",
    "X = data.iloc[:, :-2]\n",
    "y_hl = data['Heating_Load']\n",
    "y_cl = data['Cooling_Load']"
   ]
  },
  {
   "cell_type": "code",
   "execution_count": 5,
   "metadata": {},
   "outputs": [],
   "source": [
    "# Split the data into training and testing sets\n",
    "X_train_hl, X_test_hl, y_train_hl, y_test_hl = train_test_split(X, y_hl, test_size=0.2, random_state=42)\n",
    "X_train_cl, X_test_cl, y_train_cl, y_test_cl = train_test_split(X, y_cl, test_size=0.2, random_state=42)"
   ]
  },
  {
   "cell_type": "code",
   "execution_count": 6,
   "metadata": {},
   "outputs": [],
   "source": [
    "# Define the model\n",
    "xgb_model = XGBRegressor()"
   ]
  },
  {
   "cell_type": "code",
   "execution_count": 7,
   "metadata": {},
   "outputs": [],
   "source": [
    "# Define the parameter grid\n",
    "param_grid = {\n",
    "    'learning_rate': [0.01, 0.1, 0.2],\n",
    "    'gamma': [0, 0.1, 0.2],\n",
    "    'max_depth': [100, 150, 200],\n",
    "    'n_estimators': [500, 1000, 2000],\n",
    "    'reg_alpha': [0.01, 0.1, 0.5],\n",
    "    'reg_lambda': [0.5, 0.8, 1],\n",
    "    'subsample': [0.8, 0.9, 1],\n",
    "    'colsample_bytree': [0.7, 0.8, 1],\n",
    "    'min_child_weight': [1, 1.8, 3]\n",
    "}"
   ]
  },
  {
   "cell_type": "code",
   "execution_count": 8,
   "metadata": {},
   "outputs": [
    {
     "name": "stdout",
     "output_type": "stream",
     "text": [
      "Fitting 10 folds for each of 19683 candidates, totalling 196830 fits\n"
     ]
    }
   ],
   "source": [
    "# Perform grid search for heating load\n",
    "grid_search_hl = GridSearchCV(estimator=xgb_model, param_grid=param_grid, cv=10, scoring='neg_mean_squared_error', n_jobs=-1, verbose=2)\n",
    "grid_search_hl.fit(X_train_hl, y_train_hl)\n",
    "best_params_hl = grid_search_hl.best_params_"
   ]
  },
  {
   "cell_type": "code",
   "execution_count": 9,
   "metadata": {},
   "outputs": [
    {
     "name": "stdout",
     "output_type": "stream",
     "text": [
      "Fitting 10 folds for each of 19683 candidates, totalling 196830 fits\n"
     ]
    }
   ],
   "source": [
    "# Perform grid search for cooling load\n",
    "grid_search_cl = GridSearchCV(estimator=xgb_model, param_grid=param_grid, cv=10, scoring='neg_mean_squared_error', n_jobs=-1, verbose=2)\n",
    "grid_search_cl.fit(X_train_cl, y_train_cl)\n",
    "best_params_cl = grid_search_cl.best_params_"
   ]
  },
  {
   "cell_type": "markdown",
   "metadata": {},
   "source": [
    "### Save Best Parameters in TXT Format"
   ]
  },
  {
   "cell_type": "code",
   "execution_count": 10,
   "metadata": {},
   "outputs": [],
   "source": [
    "# Save the best parameters\n",
    "with open('../results/tables/best_params.txt', 'w') as f:\n",
    "    f.write(f'Best parameters for heating load: {best_params_hl}\\n')\n",
    "    f.write(f'Best parameters for cooling load: {best_params_cl}\\n')"
   ]
  },
  {
   "cell_type": "markdown",
   "metadata": {},
   "source": [
    "### Save Best Parameters in JSON Format"
   ]
  },
  {
   "cell_type": "code",
   "execution_count": 11,
   "metadata": {},
   "outputs": [],
   "source": [
    "# Save the best parameters to a JSON file\n",
    "best_params = {\n",
    "    'heating_load': best_params_hl,\n",
    "    'cooling_load': best_params_cl\n",
    "}\n",
    "with open('../results/tables/best_params.json', 'w') as f:\n",
    "    json.dump(best_params, f, indent=4)"
   ]
  },
  {
   "cell_type": "markdown",
   "metadata": {},
   "source": [
    "### Save Best Parameters in XML Format"
   ]
  },
  {
   "cell_type": "code",
   "execution_count": 12,
   "metadata": {},
   "outputs": [],
   "source": [
    "# Save the best parameters to an XML file\n",
    "best_params = {\n",
    "    'heating_load': best_params_hl,\n",
    "    'cooling_load': best_params_cl\n",
    "}\n",
    "xml = dicttoxml.dicttoxml(best_params)\n",
    "with open('../results/tables/best_params.xml', 'wb') as f:\n",
    "    f.write(xml)"
   ]
  }
 ],
 "metadata": {
  "kernelspec": {
   "display_name": "deeplearning",
   "language": "python",
   "name": "python3"
  },
  "language_info": {
   "codemirror_mode": {
    "name": "ipython",
    "version": 3
   },
   "file_extension": ".py",
   "mimetype": "text/x-python",
   "name": "python",
   "nbconvert_exporter": "python",
   "pygments_lexer": "ipython3",
   "version": "3.10.13"
  }
 },
 "nbformat": 4,
 "nbformat_minor": 2
}
